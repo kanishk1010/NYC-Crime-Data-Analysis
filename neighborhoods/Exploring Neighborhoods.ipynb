{
 "cells": [
  {
   "cell_type": "markdown",
   "metadata": {},
   "source": [
    "## This notebook uses geopandas to play with the NYC neighborhoods shapefile available at https://www1.nyc.gov/site/planning/data-maps/open-data/bytes-archive.page. It also maps crimes to neighborhoods for the subset of the data belonging to Brooklyn.\n",
    "\n",
    "Please note: We are mapping to neighborhoods locally, using this notebook, instead of using Big Data techniques because of compatibility issues between the versions of Python available on Dumbo and the geopandas package.\n",
    "\n",
    "## Before running this notebook, please install the geopandas package. The easiest way to do so is to follow these steps:\n",
    "1. Download and install Anaconda from https://www.continuum.io/downloads\n",
    "2. Installing geopandas from conda-forge by running\n",
    "\n",
    "    conda install -c conda-forge geopandas"
   ]
  },
  {
   "cell_type": "code",
   "execution_count": 1,
   "metadata": {
    "collapsed": false
   },
   "outputs": [],
   "source": [
    "import geopandas\n",
    "from shapely.geometry import Point\n",
    "import numpy as np\n",
    "import pandas as pd\n",
    "import io\n",
    "import re\n",
    "import matplotlib.pyplot as plt\n",
    "from IPython.display import display\n",
    "%matplotlib inline\n",
    "pd.options.display.max_rows = 10"
   ]
  },
  {
   "cell_type": "markdown",
   "metadata": {},
   "source": [
    "## Before running this notebook, please download and unzip the three folders available at https://github.com/zeynepsebnem/ds1004-big-data-project/tree/master/data/bk_slice."
   ]
  },
  {
   "cell_type": "code",
   "execution_count": 2,
   "metadata": {
    "collapsed": true
   },
   "outputs": [],
   "source": [
    "# Then change this variable to the file location:\n",
    "dataloc = 'C:/Users/Julie/Desktop'"
   ]
  },
  {
   "cell_type": "code",
   "execution_count": 3,
   "metadata": {
    "collapsed": false
   },
   "outputs": [
    {
     "data": {
      "text/html": [
       "<div>\n",
       "<table border=\"1\" class=\"dataframe\">\n",
       "  <thead>\n",
       "    <tr style=\"text-align: right;\">\n",
       "      <th></th>\n",
       "      <th>BoroCode</th>\n",
       "      <th>BoroName</th>\n",
       "      <th>CountyFIPS</th>\n",
       "      <th>NTACode</th>\n",
       "      <th>NTAName</th>\n",
       "      <th>Shape_Area</th>\n",
       "      <th>Shape_Leng</th>\n",
       "      <th>geometry</th>\n",
       "    </tr>\n",
       "  </thead>\n",
       "  <tbody>\n",
       "    <tr>\n",
       "      <th>0</th>\n",
       "      <td>3</td>\n",
       "      <td>Brooklyn</td>\n",
       "      <td>047</td>\n",
       "      <td>BK88</td>\n",
       "      <td>Borough Park</td>\n",
       "      <td>5.400502e+07</td>\n",
       "      <td>39247.228028</td>\n",
       "      <td>POLYGON ((990897.9000244141 169268.1207885742,...</td>\n",
       "    </tr>\n",
       "    <tr>\n",
       "      <th>1</th>\n",
       "      <td>4</td>\n",
       "      <td>Queens</td>\n",
       "      <td>081</td>\n",
       "      <td>QN52</td>\n",
       "      <td>East Flushing</td>\n",
       "      <td>2.945438e+07</td>\n",
       "      <td>25843.364923</td>\n",
       "      <td>POLYGON ((1041061.948242188 215429.4609985352,...</td>\n",
       "    </tr>\n",
       "    <tr>\n",
       "      <th>2</th>\n",
       "      <td>4</td>\n",
       "      <td>Queens</td>\n",
       "      <td>081</td>\n",
       "      <td>QN48</td>\n",
       "      <td>Auburndale</td>\n",
       "      <td>3.416422e+07</td>\n",
       "      <td>32446.878753</td>\n",
       "      <td>POLYGON ((1046392.971191406 210169.7536010742,...</td>\n",
       "    </tr>\n",
       "    <tr>\n",
       "      <th>3</th>\n",
       "      <td>4</td>\n",
       "      <td>Queens</td>\n",
       "      <td>081</td>\n",
       "      <td>QN51</td>\n",
       "      <td>Murray Hill</td>\n",
       "      <td>5.248828e+07</td>\n",
       "      <td>33266.904732</td>\n",
       "      <td>POLYGON ((1038593.459228516 221913.3550415039,...</td>\n",
       "    </tr>\n",
       "    <tr>\n",
       "      <th>4</th>\n",
       "      <td>4</td>\n",
       "      <td>Queens</td>\n",
       "      <td>081</td>\n",
       "      <td>QN27</td>\n",
       "      <td>East Elmhurst</td>\n",
       "      <td>1.972685e+07</td>\n",
       "      <td>19816.712112</td>\n",
       "      <td>POLYGON ((1022728.275024414 217530.8082275391,...</td>\n",
       "    </tr>\n",
       "    <tr>\n",
       "      <th>...</th>\n",
       "      <td>...</td>\n",
       "      <td>...</td>\n",
       "      <td>...</td>\n",
       "      <td>...</td>\n",
       "      <td>...</td>\n",
       "      <td>...</td>\n",
       "      <td>...</td>\n",
       "      <td>...</td>\n",
       "    </tr>\n",
       "    <tr>\n",
       "      <th>190</th>\n",
       "      <td>1</td>\n",
       "      <td>Manhattan</td>\n",
       "      <td>061</td>\n",
       "      <td>MN36</td>\n",
       "      <td>Washington Heights South</td>\n",
       "      <td>2.310048e+07</td>\n",
       "      <td>22095.210900</td>\n",
       "      <td>POLYGON ((1003231.182189941 248025.8281860352,...</td>\n",
       "    </tr>\n",
       "    <tr>\n",
       "      <th>191</th>\n",
       "      <td>2</td>\n",
       "      <td>Bronx</td>\n",
       "      <td>005</td>\n",
       "      <td>BX26</td>\n",
       "      <td>Highbridge</td>\n",
       "      <td>1.645722e+07</td>\n",
       "      <td>18507.423648</td>\n",
       "      <td>POLYGON ((1007134.753601074 247182.4255981445,...</td>\n",
       "    </tr>\n",
       "    <tr>\n",
       "      <th>192</th>\n",
       "      <td>2</td>\n",
       "      <td>Bronx</td>\n",
       "      <td>005</td>\n",
       "      <td>BX63</td>\n",
       "      <td>West Concourse</td>\n",
       "      <td>1.938664e+07</td>\n",
       "      <td>28550.756378</td>\n",
       "      <td>POLYGON ((1008620.929199219 246511.2341918945,...</td>\n",
       "    </tr>\n",
       "    <tr>\n",
       "      <th>193</th>\n",
       "      <td>2</td>\n",
       "      <td>Bronx</td>\n",
       "      <td>005</td>\n",
       "      <td>BX09</td>\n",
       "      <td>Soundview-Castle Hill-Clason Point-Harding Park</td>\n",
       "      <td>5.199039e+07</td>\n",
       "      <td>67346.087026</td>\n",
       "      <td>(POLYGON ((1017313.476196289 237489.665222168,...</td>\n",
       "    </tr>\n",
       "    <tr>\n",
       "      <th>194</th>\n",
       "      <td>2</td>\n",
       "      <td>Bronx</td>\n",
       "      <td>005</td>\n",
       "      <td>BX99</td>\n",
       "      <td>park-cemetery-etc-Bronx</td>\n",
       "      <td>2.208964e+08</td>\n",
       "      <td>224251.431671</td>\n",
       "      <td>(POLYGON ((1020356.162841797 236653.0676269531...</td>\n",
       "    </tr>\n",
       "  </tbody>\n",
       "</table>\n",
       "<p>195 rows × 8 columns</p>\n",
       "</div>"
      ],
      "text/plain": [
       "     BoroCode   BoroName CountyFIPS NTACode  \\\n",
       "0           3   Brooklyn        047    BK88   \n",
       "1           4     Queens        081    QN52   \n",
       "2           4     Queens        081    QN48   \n",
       "3           4     Queens        081    QN51   \n",
       "4           4     Queens        081    QN27   \n",
       "..        ...        ...        ...     ...   \n",
       "190         1  Manhattan        061    MN36   \n",
       "191         2      Bronx        005    BX26   \n",
       "192         2      Bronx        005    BX63   \n",
       "193         2      Bronx        005    BX09   \n",
       "194         2      Bronx        005    BX99   \n",
       "\n",
       "                                             NTAName    Shape_Area  \\\n",
       "0                                       Borough Park  5.400502e+07   \n",
       "1                                      East Flushing  2.945438e+07   \n",
       "2                                         Auburndale  3.416422e+07   \n",
       "3                                        Murray Hill  5.248828e+07   \n",
       "4                                      East Elmhurst  1.972685e+07   \n",
       "..                                               ...           ...   \n",
       "190                         Washington Heights South  2.310048e+07   \n",
       "191                                       Highbridge  1.645722e+07   \n",
       "192                                   West Concourse  1.938664e+07   \n",
       "193  Soundview-Castle Hill-Clason Point-Harding Park  5.199039e+07   \n",
       "194                          park-cemetery-etc-Bronx  2.208964e+08   \n",
       "\n",
       "        Shape_Leng                                           geometry  \n",
       "0     39247.228028  POLYGON ((990897.9000244141 169268.1207885742,...  \n",
       "1     25843.364923  POLYGON ((1041061.948242188 215429.4609985352,...  \n",
       "2     32446.878753  POLYGON ((1046392.971191406 210169.7536010742,...  \n",
       "3     33266.904732  POLYGON ((1038593.459228516 221913.3550415039,...  \n",
       "4     19816.712112  POLYGON ((1022728.275024414 217530.8082275391,...  \n",
       "..             ...                                                ...  \n",
       "190   22095.210900  POLYGON ((1003231.182189941 248025.8281860352,...  \n",
       "191   18507.423648  POLYGON ((1007134.753601074 247182.4255981445,...  \n",
       "192   28550.756378  POLYGON ((1008620.929199219 246511.2341918945,...  \n",
       "193   67346.087026  (POLYGON ((1017313.476196289 237489.665222168,...  \n",
       "194  224251.431671  (POLYGON ((1020356.162841797 236653.0676269531...  \n",
       "\n",
       "[195 rows x 8 columns]"
      ]
     },
     "metadata": {},
     "output_type": "display_data"
    }
   ],
   "source": [
    "# Load our shapefile using geopandas\n",
    "neighborhoods = geopandas.read_file('nynta.shp')\n",
    "display(neighborhoods)"
   ]
  },
  {
   "cell_type": "code",
   "execution_count": 4,
   "metadata": {
    "collapsed": false
   },
   "outputs": [],
   "source": [
    "# # Find the boundary of each neighborhood (just for fun)\n",
    "# bounds = neighborhoods.bounds\n",
    "# display(bounds)"
   ]
  },
  {
   "cell_type": "code",
   "execution_count": 5,
   "metadata": {
    "collapsed": false
   },
   "outputs": [],
   "source": [
    "# # Draw a map of all the neighborhoods (also just for fun)\n",
    "# fig, ax = plt.subplots(figsize=(12,10), subplot_kw={'aspect':'equal'})\n",
    "# neighborhoods.plot(column='NTAName', legend=False, ax=ax)\n",
    "# plt.show()"
   ]
  },
  {
   "cell_type": "code",
   "execution_count": 6,
   "metadata": {
    "collapsed": false
   },
   "outputs": [],
   "source": [
    "# # Load our small sample crime dataset\n",
    "# crimes = pd.read_csv('../data/crime_data_sample.csv')\n",
    "# crimes = crimes[0:100] # Cut down sample even farther for demo purposes\n",
    "# display(crimes)"
   ]
  },
  {
   "cell_type": "code",
   "execution_count": null,
   "metadata": {
    "collapsed": true
   },
   "outputs": [],
   "source": [
    "# Map crimes to neighborhoods\n",
    "def find_neighborhood(x_coord, y_coord):\n",
    "    '''\n",
    "    Takes a pair of X and Y coordinates (using the NAD_1983_StatePlane_New_York_Long_Island coordinate system)\n",
    "    and returns the corresponding New York City neighborhood.\n",
    "    '''\n",
    "    if np.isnan(x_coord) or np.isnan(y_coord):\n",
    "        return np.nan\n",
    "    \n",
    "    point = Point(x_coord, y_coord)\n",
    "    matches = neighborhoods.geometry.contains(Point(x_coord, y_coord))\n",
    "    \n",
    "    if any(matches):\n",
    "        return neighborhoods.loc[matches, 'NTAName'].values[0]\n",
    "    \n",
    "    return np.nan"
   ]
  },
  {
   "cell_type": "code",
   "execution_count": null,
   "metadata": {
    "collapsed": false
   },
   "outputs": [
    {
     "name": "stdout",
     "output_type": "stream",
     "text": [
      "Beginning filename C:/Users/Julie/Desktop/bk_slice_felony/felony_2006_desc_year_borough\n"
     ]
    }
   ],
   "source": [
    "years = range(2006, 2016)\n",
    "\n",
    "for crime_type in ['felony', 'misdemeanor', 'violation']:\n",
    "    for year in years:\n",
    "        # Define filename\n",
    "        folder = dataloc + '/bk_slice_' + crime_type + '/'\n",
    "        filename = folder + crime_type + '_{}_desc_year_borough'.format(year)\n",
    "        \n",
    "        print('Beginning filename '+filename+'.out') # Just to keep track of progresss\n",
    "        \n",
    "        # Define regular expression to capture contents of parentheses\n",
    "        # so that we can parse lat/long column\n",
    "        regex = re.compile(r'(\\([^\\(\\)]+\\))')\n",
    "\n",
    "        # Replace parentheses with quotes and pipe into file-like object\n",
    "        # Adapted from an answer to this StackOverflow question:\n",
    "        # http://stackoverflow.com/questions/35948417/how-to-use-square-brackets-as-a-quote-character-in-pandas-read-csv\n",
    "        with io.open(filename+'.out', 'rb') as fin:\n",
    "            fo = io.StringIO()\n",
    "            fo.writelines(unicode(re.sub(regex, r'\"\\1\"', line)) for line in fin)\n",
    "            fo.seek(0)\n",
    "\n",
    "        # Read transformed CSV into dataframe\n",
    "        crimes = pd.read_csv(fo, index_col=None, header=None, quotechar='\"')\n",
    "                \n",
    "        # Drop any rows that are missing x or y coordinates\n",
    "        crimes = crimes[~pd.isnull(crimes[6])]\n",
    "        crimes = crimes[~pd.isnull(crimes[7])]\n",
    "        \n",
    "        # Find the neighborhood for each crime\n",
    "        crimes.insert(len(crimes.columns.values), len(crimes.columns.values),\n",
    "              crimes.apply(lambda row: find_neighborhood(row[6], row[7]), axis=1))\n",
    "        \n",
    "        crimes.to_csv(filename+'with_hood.out', index=False, header=False)"
   ]
  },
  {
   "cell_type": "code",
   "execution_count": null,
   "metadata": {
    "collapsed": false
   },
   "outputs": [],
   "source": [
    "crimes.insert(len(crimes.columns.values), len(crimes.columns.values),\n",
    "              crimes.apply(lambda row: find_neighborhood(row[6], row[7]), axis=1))\n",
    "display(crimes)"
   ]
  }
 ],
 "metadata": {
  "anaconda-cloud": {},
  "kernelspec": {
   "display_name": "Python [Root]",
   "language": "python",
   "name": "Python [Root]"
  },
  "language_info": {
   "codemirror_mode": {
    "name": "ipython",
    "version": 2
   },
   "file_extension": ".py",
   "mimetype": "text/x-python",
   "name": "python",
   "nbconvert_exporter": "python",
   "pygments_lexer": "ipython2",
   "version": "2.7.12"
  }
 },
 "nbformat": 4,
 "nbformat_minor": 2
}
