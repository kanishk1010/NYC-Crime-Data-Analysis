{
 "cells": [
  {
   "cell_type": "code",
   "execution_count": 29,
   "metadata": {
    "collapsed": false
   },
   "outputs": [
    {
     "name": "stdout",
     "output_type": "stream",
     "text": [
      "2006 162.873700077 1477.31232877\n",
      "low crime days\n",
      "2006-02-12 724\n",
      "2006-11-23 972\n",
      "2006-12-25 898\n",
      "high crime days\n",
      "2006-01-01 2157\n",
      "2006-11-01 2017\n"
     ]
    }
   ],
   "source": [
    "import re\n",
    "from datetime import datetime\n",
    "import numpy as np\n",
    "pattern=re.compile(\"^\\('(\\d{2}/\\d{2}/\\d{4})',\\s(\\d*)\\)\")\n",
    "year = '2006'\n",
    "f=open(\"DailyTrendByYearOut/\"+year+\".txt\")\n",
    "list = []\n",
    "for line in f:\n",
    "    tuple = pattern.match(line)\n",
    "    date = datetime.strptime(tuple[1],'%m/%d/%Y').date().toordinal()\n",
    "    occurence = int (tuple[2])\n",
    "    tuple = (date, occurence)\n",
    "    list.append(tuple)\n",
    "dtypes = np.dtype({ 'names' : ('timestamp', 'occurence'),\n",
    "                        'formats' : [np.int, np.int] })\n",
    "data = np.asarray(list, dtype = dtypes)\n",
    "data = data[data['timestamp'].argsort()]\n",
    "mean = np.mean(data['occurence'])\n",
    "std = np.std(data['occurence'])\n",
    "low  = data[(data['occurence'] - mean)  < -3 * std]\n",
    "high = data[(data['occurence'] - mean)  > 3 * std]\n",
    "print (year, std, mean)\n",
    "print ('low crime days')\n",
    "for date in low:\n",
    "    print (datetime.fromordinal(date['timestamp']).date(), date['occurence'])\n",
    "print ('high crime days')\n",
    "for date in high:\n",
    "    print (datetime.fromordinal(date['timestamp']).date(), date['occurence'])\n"
   ]
  },
  {
   "cell_type": "code",
   "execution_count": null,
   "metadata": {
    "collapsed": true
   },
   "outputs": [],
   "source": []
  }
 ],
 "metadata": {
  "kernelspec": {
   "display_name": "Python 3",
   "language": "python",
   "name": "python3"
  },
  "language_info": {
   "codemirror_mode": {
    "name": "ipython",
    "version": 3
   },
   "file_extension": ".py",
   "mimetype": "text/x-python",
   "name": "python",
   "nbconvert_exporter": "python",
   "pygments_lexer": "ipython3",
   "version": "3.6.0"
  }
 },
 "nbformat": 4,
 "nbformat_minor": 2
}
