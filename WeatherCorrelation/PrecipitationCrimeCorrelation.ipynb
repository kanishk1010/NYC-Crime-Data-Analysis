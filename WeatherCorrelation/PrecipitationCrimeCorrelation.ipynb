{
 "cells": [
  {
   "cell_type": "code",
   "execution_count": 2,
   "metadata": {
    "collapsed": false
   },
   "outputs": [
    {
     "name": "stdout",
     "output_type": "stream",
     "text": [
      "-0.0733627004545\n"
     ]
    }
   ],
   "source": [
    "import re\n",
    "from datetime import datetime\n",
    "import numpy as np\n",
    "import numpy.lib.recfunctions as rfn\n",
    "import csv\n",
    "pattern=re.compile(\"^\\('(\\d{2}/\\d{2}/\\d{4})',\\s(\\d*)\\)\")\n",
    "f=open(\"DailyTrendByYearOut/2013.txt\")\n",
    "list = []\n",
    "for line in f:\n",
    "    tuple = pattern.match(line)\n",
    "    date = datetime.strptime(tuple[1],'%m/%d/%Y').date().toordinal()\n",
    "    occurence = int (tuple[2])\n",
    "    tuple = (date, occurence)\n",
    "    list.append(tuple)\n",
    "dtypes = np.dtype({ 'names' : ('timestamp', 'occurence'),\n",
    "                        'formats' : [np.int, np.int] })\n",
    "data = np.asarray(list, dtype = dtypes)\n",
    "data = data[data['timestamp'].argsort()]\n",
    "list1 = []\n",
    "with open(\"SampleWeatherData/2013.csv\") as f:\n",
    "    reader=csv.reader(f)\n",
    "    f.readline()\n",
    "    for row in reader:\n",
    "        date = datetime.strptime(row[2].strip(),'%Y%m%d').date().toordinal()\n",
    "        temp = float(row[19].strip()[:-1])\n",
    "        tuple = (date,temp)\n",
    "        list1.append(tuple)\n",
    "dtypes1 = np.dtype({ 'names' : ('timestamp', 'temperature'),\n",
    "                        'formats' : [np.int, np.float] })\n",
    "tempdata = np.asarray(list1, dtype = dtypes1)\n",
    "joindata = rfn.join_by('timestamp', data, tempdata, jointype='inner', usemask=False)\n",
    "print (np.corrcoef(joindata['occurence'], joindata['temperature'])[0][1])"
   ]
  },
  {
   "cell_type": "code",
   "execution_count": null,
   "metadata": {
    "collapsed": true
   },
   "outputs": [],
   "source": []
  }
 ],
 "metadata": {
  "kernelspec": {
   "display_name": "Python 3",
   "language": "python",
   "name": "python3"
  },
  "language_info": {
   "codemirror_mode": {
    "name": "ipython",
    "version": 3
   },
   "file_extension": ".py",
   "mimetype": "text/x-python",
   "name": "python",
   "nbconvert_exporter": "python",
   "pygments_lexer": "ipython3",
   "version": "3.6.0"
  }
 },
 "nbformat": 4,
 "nbformat_minor": 2
}
